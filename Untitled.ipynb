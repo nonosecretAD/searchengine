{
 "cells": [
  {
   "cell_type": "code",
   "execution_count": 1,
   "id": "587c42f4",
   "metadata": {},
   "outputs": [],
   "source": [
    "import string\n",
    "import urllib\n",
    "import requests"
   ]
  },
  {
   "cell_type": "code",
   "execution_count": 2,
   "id": "2c0d1b98",
   "metadata": {},
   "outputs": [],
   "source": [
    "def union(list_1,list_2):\n",
    "    if not list_2:\n",
    "        return list_1\n",
    "    for item in list_2:\n",
    "        if item not in list_1:\n",
    "            list_1.append(item)\n",
    "    return list_1\n",
    "\n",
    "\n",
    "def split_string(source,splitlist):\n",
    "    output=[]\n",
    "    atsplit=True\n",
    "    for char in source:\n",
    "        if char in splitlist:\n",
    "            atsplit=True\n",
    "        else:\n",
    "            if atsplit==True:\n",
    "                output.append(char)\n",
    "                atsplit=False\n",
    "            else:\n",
    "                output[-1]=output[-1]+char\n",
    "    return output\n",
    "\n",
    "def get_page(url):\n",
    "    try:\n",
    "        import urllib\n",
    "        return urllib.urlopen(url).read()\n",
    "    except:\n",
    "        return\"\"\n"
   ]
  },
  {
   "cell_type": "code",
   "execution_count": 8,
   "id": "0d7269b5",
   "metadata": {},
   "outputs": [],
   "source": [
    "def crawl_web(seed):\n",
    "    tocrawl=seed\n",
    "    crawled=[]\n",
    "    index=[]\n",
    "    while tocrawl:\n",
    "        page=tocrawl.pop()\n",
    "        if page not in crawled:\n",
    "            content=requests.get(page).text\n",
    "            add_page_to_index(index,page,content)\n",
    "            tocrawl=union(tocrawl,get_all_links(content))\n",
    "        crawled.append(page)\n",
    "    return crawled,index\n",
    "\n",
    "\n",
    "def get_next_target(page):\n",
    "    start_link=page.find('<a href=\"https')\n",
    "    if start_link==-1:\n",
    "        return None,0\n",
    "    start_quote=page.find('\"',start_link)\n",
    "    end_quote=page.find('\"',start_quote+1) \n",
    "    url = page[start_quote+1:end_quote]\n",
    "    return url,end_quote\n",
    "\n",
    "def get_all_links(page):\n",
    "    list=[]\n",
    "    while True:\n",
    "        url,end_quote=get_next_target(page)\n",
    "        if url :\n",
    "            if url not in list:\n",
    "                list.append(url)\n",
    "            page=page[end_quote:]\n",
    "        else:\n",
    "             break \n",
    "    return list\n",
    "\n",
    "def add_to_index(index,keyword,url):\n",
    "#format of index: [[key1,[[url1,count1],[url2,count2]]],[key2,[url3,count3]]]\n",
    "    for entry in index:\n",
    "        if entry[0]==keyword:\n",
    "            entry[1].append([url,0])\n",
    "            return\n",
    "    index.append([keyword,[[url,0]])\n",
    "    return\n",
    "\n",
    "def record_user_click(index,keyword,url):\n",
    "    urls=lookup(index,keyword)\n",
    "    if urls:\n",
    "        for item in urls:\n",
    "            if item[0]==url:\n",
    "                item[1]=item[1]+1\n",
    "                return\n",
    "        \n",
    "\n",
    "def lookup(index,keyword):\n",
    "    for entry in index:\n",
    "        if entry[0]==keyword:\n",
    "            return entry[1]\n",
    "    return []\n",
    "\n",
    "def add_page_to_index(index,url,content):\n",
    "    words=content.split()\n",
    "    if not words:\n",
    "        return \n",
    "    for item in words:\n",
    "        add_to_index(index,item,url)\n",
    "    return\n",
    "\n",
    "\n",
    "\n",
    "\n",
    "\n",
    "\n",
    "\n",
    "\n",
    "\n",
    "\n",
    "\n",
    "\n",
    "\n",
    "\n",
    "\n",
    "\n",
    "    "
   ]
  },
  {
   "cell_type": "code",
   "execution_count": 9,
   "id": "8f90a678",
   "metadata": {},
   "outputs": [],
   "source": [
    "##seed=['https://www.alibabagroup.com/']\n",
    "##seed=['https://zh.wikipedia.org/wiki/Wikipedia']\n",
    "seed=['https://www.bilibili.com/']\n",
    "##seed=['https://www.bbc.com/news/technology']"
   ]
  },
  {
   "cell_type": "code",
   "execution_count": 10,
   "id": "b1ce2667",
   "metadata": {},
   "outputs": [],
   "source": [
    "list,index=crawl_web(seed.copy())\n",
    "#print(index)"
   ]
  },
  {
   "cell_type": "code",
   "execution_count": 56,
   "id": "7e1e8c3e",
   "metadata": {},
   "outputs": [
    {
     "name": "stdout",
     "output_type": "stream",
     "text": [
      "[]\n",
      "<class 'str'>\n",
      "['https://www.bilibili.com/']\n",
      "\n"
     ]
    }
   ],
   "source": [
    "print(get_all_links(get_page(seed[0])))\n",
    "print(type(get_page(seed[0])))\n",
    "print(seed)\n",
    "print(get_page(seed[0]))"
   ]
  },
  {
   "cell_type": "code",
   "execution_count": 34,
   "id": "dfdaf33f",
   "metadata": {},
   "outputs": [
    {
     "name": "stdout",
     "output_type": "stream",
     "text": [
      "2333\n"
     ]
    }
   ],
   "source": [
    "print(len(index))"
   ]
  },
  {
   "cell_type": "code",
   "execution_count": 55,
   "id": "75f824c5",
   "metadata": {},
   "outputs": [
    {
     "ename": "AttributeError",
     "evalue": "module 'urllib' has no attribute 'urlopen'",
     "output_type": "error",
     "traceback": [
      "\u001b[1;31m---------------------------------------------------------------------------\u001b[0m",
      "\u001b[1;31mAttributeError\u001b[0m                            Traceback (most recent call last)",
      "\u001b[1;32mC:\\Users\\NONOSE~1\\AppData\\Local\\Temp/ipykernel_24440/3272925717.py\u001b[0m in \u001b[0;36m<module>\u001b[1;34m\u001b[0m\n\u001b[1;32m----> 1\u001b[1;33m \u001b[0mprint\u001b[0m\u001b[1;33m(\u001b[0m\u001b[0murllib\u001b[0m\u001b[1;33m.\u001b[0m\u001b[0murlopen\u001b[0m\u001b[1;33m(\u001b[0m\u001b[0mseed\u001b[0m\u001b[1;33m[\u001b[0m\u001b[1;36m0\u001b[0m\u001b[1;33m]\u001b[0m\u001b[1;33m)\u001b[0m\u001b[1;33m.\u001b[0m\u001b[0mread\u001b[0m\u001b[1;33m(\u001b[0m\u001b[1;33m)\u001b[0m\u001b[1;33m)\u001b[0m\u001b[1;33m\u001b[0m\u001b[1;33m\u001b[0m\u001b[0m\n\u001b[0m",
      "\u001b[1;31mAttributeError\u001b[0m: module 'urllib' has no attribute 'urlopen'"
     ]
    }
   ],
   "source": [
    "print(urllib.urlopen(seed[0]).read())"
   ]
  }
 ],
 "metadata": {
  "kernelspec": {
   "display_name": "Python 3.9.7 ('base')",
   "language": "python",
   "name": "python3"
  },
  "language_info": {
   "codemirror_mode": {
    "name": "ipython",
    "version": 3
   },
   "file_extension": ".py",
   "mimetype": "text/x-python",
   "name": "python",
   "nbconvert_exporter": "python",
   "pygments_lexer": "ipython3",
   "version": "3.9.7"
  },
  "vscode": {
   "interpreter": {
    "hash": "b09ec625f77bf4fd762565a912b97636504ad6ec901eb2d0f4cf5a7de23e1ee5"
   }
  }
 },
 "nbformat": 4,
 "nbformat_minor": 5
}
